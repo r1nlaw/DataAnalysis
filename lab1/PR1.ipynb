{
  "nbformat": 4,
  "nbformat_minor": 0,
  "metadata": {
    "colab": {
      "provenance": []
    },
    "kernelspec": {
      "name": "python3",
      "display_name": "Python 3"
    },
    "language_info": {
      "name": "python"
    }
  },
  "cells": [
    {
      "cell_type": "code",
      "source": [
        "#1. Напишите модуль для нахождения НОД числа 8 и заданного 10-значного числа, не используя арифметические операции, но с использованием функций пользователя.\n",
        "def main():\n",
        "    n = int(input())\n",
        "    print(gcd_number(8, n))\n",
        "\n",
        "def gcd_number(a=8, b=1234567890):\n",
        "    binari_b = bin(b)\n",
        "\n",
        "    if binari_b[-3:] == '000':\n",
        "        return 8\n",
        "    elif binari_b[-2:] == '00':\n",
        "        return 4\n",
        "    elif binari_b[-1:] == '0':\n",
        "        return 2\n",
        "    else:\n",
        "        return 1\n",
        "main()"
      ],
      "metadata": {
        "id": "_lzYogWjPXJc"
      },
      "execution_count": null,
      "outputs": []
    },
    {
      "cell_type": "markdown",
      "source": [
        "\n",
        "\n",
        "```\n",
        "1234567008\n",
        "8\n",
        "```"
      ],
      "metadata": {
        "id": "slI3vs2dU58y"
      }
    },
    {
      "cell_type": "code",
      "source": [
        "#2. Допишите модуль из упражнения 1, добавив исключения, чтобы обработать некорректный ввод.\n",
        "def main():\n",
        "    n = input()\n",
        "    print(gcd_number(8, n))\n",
        "\n",
        "def gcd_number(a=8, b=1234567890):\n",
        "    try:\n",
        "        b = int(b)  # Пытаемся преобразовать b в int\n",
        "    except ValueError:\n",
        "        print(\"Введено некорректное значение\")\n",
        "        return\n",
        "    try:\n",
        "        binari_b = bin(b)\n",
        "        if 1000000000 <= b <= 9999999999:\n",
        "            if binari_b[-3:] == '000':\n",
        "                return 8\n",
        "            elif binari_b[-2:] == '00':\n",
        "                return 4\n",
        "            elif binari_b[-1:] == '0':\n",
        "                return 2\n",
        "\n",
        "            return 1\n",
        "        else:\n",
        "            print(\"Значение не 10-ти значное.\")\n",
        "            return ValueError\n",
        "\n",
        "    except ValueError:\n",
        "        print(\"Error\")\n",
        "        return\n",
        "\n",
        "main()"
      ],
      "metadata": {
        "id": "GcJz67jiVAqk"
      },
      "execution_count": null,
      "outputs": []
    },
    {
      "cell_type": "markdown",
      "source": [
        "\n",
        "```\n",
        "abc\n",
        "Введено некорректное значение\n",
        "\n",
        "```\n",
        "```\n",
        "99999999999\n",
        "Значение не 10-ти значное.\n",
        "```"
      ],
      "metadata": {
        "id": "bbb2lIVHZRB3"
      }
    },
    {
      "cell_type": "code",
      "source": [
        "#3. Напишите код, заменяющий серию одинаковых гласных в вводимой строке на одну эту гласную.\n",
        "def vowel_series(input_string):\n",
        "    # Определяем все гласные\n",
        "    vowels_eu = \"aeyiouAEIOUY\"\n",
        "    vowels_ru = \"аяуюоеёэиыАЯУЮОЕЁЭИЫ\"\n",
        "\n",
        "    result = \"\" # Пустая строка с результатом\n",
        "\n",
        "\n",
        "    last_vowel = \"\" # Инициализируем переменную для хранения последней добавленной гласной\n",
        "\n",
        "\n",
        "    for char in input_string:\n",
        "        if char in vowels_eu or char in vowels_ru:\n",
        "            # Если эта гласная отличается от последней добавленной гласной\n",
        "            if char != last_vowel:\n",
        "                result += char  # Добавляем её в результат\n",
        "                last_vowel = char # Обновляем последнюю добавленную гласную\n",
        "        else:\n",
        "\n",
        "            result += char  # Если символ согласная просто добавляем его в результат\n",
        "            last_vowel = \"\" # Сбрасываем последнюю добавленную гласную\n",
        "\n",
        "    return result\n",
        "\n",
        "input_string = input(\"Введите строку:\\n\")\n",
        "output_string = vowel_series(input_string)\n",
        "print(\"Результат:\", output_string)"
      ],
      "metadata": {
        "id": "jvX5auCYZnkt"
      },
      "execution_count": null,
      "outputs": []
    },
    {
      "cell_type": "markdown",
      "source": [
        "```\n",
        "Введите строку:\n",
        "eewqЮЮууУ\n",
        "Результат: ewqЮуУ\n",
        "\n",
        "```"
      ],
      "metadata": {
        "id": "fLFv_2kGc9SE"
      }
    },
    {
      "cell_type": "code",
      "source": [
        "#4. Напишите генератор простого числа, ближайшего к введенному натуральному числу.\n",
        "def if_if_prime(number):\n",
        "    if number <= 1:\n",
        "        return False\n",
        "    if number == 2:\n",
        "        return True\n",
        "    if number % 2 == 0 and number > 2:\n",
        "        return False\n",
        "    for i in range(3, int(number**0.5) + 1, 2):\n",
        "        if number % i == 0:\n",
        "            return False\n",
        "    return True\n",
        "\n",
        "def nearset_prime(number):\n",
        "    if number <= 1:\n",
        "        return 2\n",
        "    if if_if_prime(number):\n",
        "        return number\n",
        "\n",
        "    find_lower = number - 1\n",
        "    find_high = number + 1\n",
        "\n",
        "    while True:\n",
        "        if if_if_prime(find_lower):\n",
        "            return find_lower\n",
        "        if if_if_prime(find_high):\n",
        "            return find_high\n",
        "        find_lower -= 1\n",
        "        find_high += 1\n",
        "\n",
        "number = int(input(\"Введите натуральное число:\\n\"))\n",
        "prime = nearset_prime(number)\n",
        "print(f\"Ближайшее простое число к {number} это {prime}\")\n",
        "\n"
      ],
      "metadata": {
        "id": "wESW6dYcdT4E"
      },
      "execution_count": null,
      "outputs": []
    },
    {
      "cell_type": "markdown",
      "source": [
        "```\n",
        "Введите натуральное число:\n",
        "35\n",
        "Ближайшее простое число к 35 это 37\n",
        "```"
      ],
      "metadata": {
        "id": "6Yh858lMlr2j"
      }
    },
    {
      "cell_type": "code",
      "source": [
        "#6. Для произвольно заданного двухуровневого списка из целых, вещественных и комплексных чисел, выберите только комплексные числа и запишите их в кортеж.\n",
        "spisok = [\n",
        "    [6.6, 2+1j, 8],\n",
        "    [7.3, 1+10j, 11],\n",
        "    [31,14+18j, 45+55j]\n",
        "]\n",
        "for i in spisok:\n",
        "    print(i)\n",
        "complex_spisok = []\n",
        "for i in spisok:\n",
        "    for j in i:\n",
        "        if isinstance(j, complex):  # Ищем комплекс число\n",
        "            complex_spisok.append(j)\n",
        "complex_tuple = tuple(complex_spisok)\n",
        "print(complex_tuple)"
      ],
      "metadata": {
        "id": "00e-f4FEl4i6"
      },
      "execution_count": null,
      "outputs": []
    },
    {
      "cell_type": "markdown",
      "source": [
        "```\n",
        "[6.6, (2+1j), 8]\n",
        "[7.3, (1+10j), 11]\n",
        "[31, (14+18j), (45+55j)]\n",
        "((2+1j), (1+10j), (14+18j), (45+55j))\n",
        "```"
      ],
      "metadata": {
        "id": "sbn9mAWEuJ9S"
      }
    },
    {
      "cell_type": "code",
      "source": [
        "#7. Создайте список из N (аргумент функции) первых элементов последовательности частичных сумм ряда Фибоначчи. Выведите его как итератор (используйте yield).\n",
        "def fibonachi(N):\n",
        "    a = 0\n",
        "    b = 1\n",
        "    summ = 0\n",
        "\n",
        "    for _ in range(N):\n",
        "        summ += a\n",
        "        yield summ\n",
        "        a, b = b, summ\n",
        "\n",
        "N = int(input())\n",
        "array = []\n",
        "for j in fibonachi(N):\n",
        "    array.append(j)\n",
        "print(array)\n"
      ],
      "metadata": {
        "id": "JYDzP46XuTst"
      },
      "execution_count": null,
      "outputs": []
    },
    {
      "cell_type": "markdown",
      "source": [
        "```\n",
        "10\n",
        "[0, 1, 1, 2, 3, 5, 8, 13, 21, 34]\n",
        "```"
      ],
      "metadata": {
        "id": "eQSRozb6zDo8"
      }
    },
    {
      "cell_type": "code",
      "source": [
        "#8. С помощью итератора из упражнения 7, найдите индекс первого элемента последовательности частичных сумм ряда Фибоначчи, содержащего более, чем заданное число, значащих цифр.\n",
        "def fibonachi():\n",
        "    a = 0\n",
        "    b = 1\n",
        "    summ = 0\n",
        "    count_i = 0\n",
        "    while True:\n",
        "        summ += a\n",
        "        yield count_i, summ\n",
        "        count_i += 1\n",
        "        a, b = b, summ\n",
        "\n",
        "\n",
        "N = int(input())\n",
        "\n",
        "for count_i, summ in fibonachi():\n",
        "    if len(str(summ)) > N:\n",
        "        print(f\"Индекс: {count_i}\")\n",
        "        print(f\"Полученное значение: {summ}\")\n",
        "        break\n"
      ],
      "metadata": {
        "id": "iGUciZj4zIv6"
      },
      "execution_count": null,
      "outputs": []
    },
    {
      "cell_type": "markdown",
      "source": [
        "```\n",
        "11\n",
        "Индекс: 55\n",
        "Полученное значение: 139583862445\n",
        "```"
      ],
      "metadata": {
        "id": "knt9YC5r2pkg"
      }
    },
    {
      "cell_type": "code",
      "source": [
        "#11. Напишите функцию, которая вычисляет векторное произведение в 3-мерном пространстве.\n",
        "def vector_cross_product(a, b):\n",
        "    # Проверяем, что оба вектора имеют длину 3\n",
        "    if len(a) != 3 or len(b) != 3:\n",
        "        raise ValueError(\"Векторы должны быть трехмерными\")\n",
        "\n",
        "    # Вычисляем компоненты векторного произведения\n",
        "    x = a[1] * b[2] - a[2] * b[1]\n",
        "    y = a[2] * b[0] - a[0] * b[2]\n",
        "    z = a[0] * b[1] - a[1] * b[0]\n",
        "\n",
        "    return (x, y, z)\n",
        "\n",
        "\n",
        "vector1 = (1, 2, 3)\n",
        "vector2 = (4, 5, 6)\n",
        "\n",
        "result = vector_cross_product(vector1, vector2)\n",
        "print(f\"Векторное произведение: {result}\")  # Вывод: Векторное произведение: (-3, 6, -3)"
      ],
      "metadata": {
        "id": "IB1K9ojy7V7Q"
      },
      "execution_count": null,
      "outputs": []
    },
    {
      "cell_type": "markdown",
      "source": [
        "```\n",
        "Векторное произведение: (-3, 6, -3)\n",
        "```"
      ],
      "metadata": {
        "id": "q1j6DGND7gjM"
      }
    },
    {
      "cell_type": "code",
      "source": [],
      "metadata": {
        "id": "ecHfWga97xFY"
      },
      "execution_count": null,
      "outputs": []
    }
  ]
}